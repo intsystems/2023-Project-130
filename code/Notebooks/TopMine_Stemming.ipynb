{
 "cells": [
  {
   "cell_type": "markdown",
   "metadata": {},
   "source": [
    "# Installing and importing libraries"
   ]
  },
  {
   "cell_type": "code",
   "execution_count": 6,
   "metadata": {},
   "outputs": [
    {
     "name": "stdout",
     "output_type": "stream",
     "text": [
      "Requirement already satisfied: topmine in c:\\users\\маша\\appdata\\local\\programs\\python\\python38\\lib\\site-packages (0.1.1)\n",
      "Requirement already satisfied: numpy in c:\\users\\маша\\appdata\\local\\programs\\python\\python38\\lib\\site-packages (from topmine) (1.19.3)\n",
      "Note: you may need to restart the kernel to use updated packages.\n"
     ]
    },
    {
     "name": "stderr",
     "output_type": "stream",
     "text": [
      "WARNING: You are using pip version 20.1.1; however, version 23.0.1 is available.\n",
      "You should consider upgrading via the 'c:\\users\\маша\\appdata\\local\\programs\\python\\python38\\python.exe -m pip install --upgrade pip' command.\n"
     ]
    }
   ],
   "source": [
    "# pip install topmine\n",
    "# pip install nltk\n",
    "# pip install textblob"
   ]
  },
  {
   "cell_type": "code",
   "execution_count": 25,
   "metadata": {},
   "outputs": [
    {
     "name": "stderr",
     "output_type": "stream",
     "text": [
      "[nltk_data] Downloading package wordnet to\n",
      "[nltk_data]     C:\\Users\\Маша\\AppData\\Roaming\\nltk_data...\n",
      "[nltk_data]   Package wordnet is already up-to-date!\n",
      "[nltk_data] Downloading package averaged_perceptron_tagger to\n",
      "[nltk_data]     C:\\Users\\Маша\\AppData\\Roaming\\nltk_data...\n",
      "[nltk_data]   Package averaged_perceptron_tagger is already up-to-\n",
      "[nltk_data]       date!\n",
      "[nltk_data] Downloading package punkt to\n",
      "[nltk_data]     C:\\Users\\Маша\\AppData\\Roaming\\nltk_data...\n",
      "[nltk_data]   Package punkt is already up-to-date!\n"
     ]
    }
   ],
   "source": [
    "import nltk\n",
    "nltk.download('wordnet')\n",
    "nltk.download('averaged_perceptron_tagger')\n",
    "nltk.download('punkt')\n",
    "\n",
    "from textblob import TextBlob, Word\n",
    "from pathlib import *\n",
    "import re\n",
    "\n",
    "from topmine.phrase_mining import PhraseMining"
   ]
  },
  {
   "cell_type": "markdown",
   "metadata": {},
   "source": [
    "# Stemming"
   ]
  },
  {
   "cell_type": "code",
   "execution_count": 13,
   "metadata": {},
   "outputs": [],
   "source": [
    "def stemming(text):\n",
    "    \"\"\"\n",
    "    Cuts off the endings of words\n",
    "            Parameters:\n",
    "                    text (str): text to stem\n",
    "            Return: \n",
    "                    stemmed_output (str): stemmed text\n",
    "    \"\"\"\n",
    "    stemmer = SnowballStemmer(language='english') \n",
    "    sent = TextBlob(text)\n",
    "    stemmed_output = ' '. join([stemmer.stem(w) for w in sent.words])\n",
    "    return stemmed_output"
   ]
  },
  {
   "cell_type": "code",
   "execution_count": 14,
   "metadata": {},
   "outputs": [
    {
     "name": "stdout",
     "output_type": "stream",
     "text": [
      "Progress:  500\n",
      "Progress:  1000\n",
      "Progress:  1500\n",
      "Progress:  2000\n",
      "Progress:  2500\n",
      "Progress:  3000\n",
      "Progress:  3500\n",
      "Progress:  4000\n",
      "Progress:  4500\n",
      "Progress:  5000\n",
      "Progress:  5500\n",
      "Progress:  6000\n",
      "Progress:  6500\n",
      "Progress:  7000\n",
      "Progress:  7500\n",
      "Progress:  8000\n",
      "Progress:  8500\n",
      "Progress:  9000\n"
     ]
    }
   ],
   "source": [
    "input_path = 'Dataset/Texts_cut'\n",
    "output_path = 'Dataset/Stem_Texts'\n",
    "count = 0\n",
    "\n",
    "for direct in Path(input_path).iterdir():\n",
    "        number = direct.stem\n",
    "        new_input_path = Path(input_path + '/' + number)\n",
    "\n",
    "        for item in Path(new_input_path).iterdir():\n",
    "            new_output_path = Path(output_path + '/' + number + '/' + item.name)\n",
    "            fout = open(new_output_path, 'w')    \n",
    "            with open(item, 'r', errors=\"ignore\") as fin:\n",
    "                stemmed_output = stemming(fin.read())\n",
    "                without_nums = re.sub(r'[^\\w\\s]+|[\\d]+|\\n', r'', stemmed_output, flags=re.UNICODE).strip()\n",
    "                fout.write(without_nums)\n",
    "                fout.close\n",
    "        \n",
    "            # Progress\n",
    "            count += 1\n",
    "            if count % 500 == 0:\n",
    "                print('Progress: ', count)"
   ]
  },
  {
   "cell_type": "code",
   "execution_count": null,
   "metadata": {},
   "outputs": [],
   "source": [
    "with open('Dataset/Train_Test/Train/Train_1.vw.txt', 'r') as fin:\n",
    "    with open('Dataset/Train_Test/Train/Train_1_stem.vw.txt', 'w') as fout:\n",
    "        for line in fin.readlines():\n",
    "            stemmed_output = stemming(line)\n",
    "            fout.write(stemmed_output + '\\n')"
   ]
  },
  {
   "cell_type": "code",
   "execution_count": null,
   "metadata": {},
   "outputs": [],
   "source": [
    "with open('Dataset/Train_Test/Train/Train_1_stem.vw.txt', 'r') as fin:\n",
    "    print(fin.readline())"
   ]
  },
  {
   "cell_type": "markdown",
   "metadata": {},
   "source": [
    "# TopMine"
   ]
  },
  {
   "cell_type": "code",
   "execution_count": 26,
   "metadata": {},
   "outputs": [],
   "source": [
    "def mining(input_path = 'Dataset/Stem_Texts', output_path = 'Dataset/TopMine_texts'):\n",
    "    \"\"\"\n",
    "    Selecting candidate words for terms using TopMine\n",
    "            Parameters:\n",
    "                    input_path (str): directory with documents sorted by year to load\n",
    "                    output_path (str): directory with documents sorted by year to save\n",
    "    \"\"\"\n",
    "    count = 0\n",
    "    for direct in Path(input_path).iterdir():\n",
    "        number = direct.stem\n",
    "        new_input_path = Path(input_path + '/' + number)\n",
    "\n",
    "        for item in Path(new_input_path).iterdir():\n",
    "            new_output_path = Path(output_path + '/' + number + '/' + item.name)\n",
    "\n",
    "            with open(item, 'r', errors=\"ignore\") as fin:\n",
    "                fout = open(new_output_path, 'w')\n",
    "\n",
    "                # Mining terms\n",
    "                p = PhraseMining(fin)\n",
    "                mined_words = p.mine()[-1]\n",
    "\n",
    "                for i in mined_words:\n",
    "                    fout.write(i + ' ')\n",
    "\n",
    "                fout.close()\n",
    "                \n",
    "            # Progress\n",
    "            count += 1\n",
    "            if count % 1000 == 0:\n",
    "                print('Progress: ', count)"
   ]
  },
  {
   "cell_type": "code",
   "execution_count": null,
   "metadata": {},
   "outputs": [],
   "source": [
    "mining()"
   ]
  }
 ],
 "metadata": {
  "kernelspec": {
   "display_name": "Python 3",
   "language": "python",
   "name": "python3"
  },
  "language_info": {
   "codemirror_mode": {
    "name": "ipython",
    "version": 3
   },
   "file_extension": ".py",
   "mimetype": "text/x-python",
   "name": "python",
   "nbconvert_exporter": "python",
   "pygments_lexer": "ipython3",
   "version": "3.8.5"
  }
 },
 "nbformat": 4,
 "nbformat_minor": 4
}
