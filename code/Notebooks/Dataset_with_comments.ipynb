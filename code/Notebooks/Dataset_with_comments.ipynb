{
 "cells": [
  {
   "cell_type": "code",
   "execution_count": 3,
   "metadata": {},
   "outputs": [],
   "source": [
    "from pathlib import *\n",
    "import re\n",
    "from collections import Counter\n",
    "import numpy as np\n",
    "import matplotlib.pyplot as plt\n",
    "import json\n",
    "import shutil"
   ]
  },
  {
   "cell_type": "code",
   "execution_count": 2,
   "metadata": {},
   "outputs": [],
   "source": [
    "def find_files_with_terms(dir_path='Dataset/Texts', annotation='Dataset/Terms/_all_annotation_map_to_acl_arc_id.txt'):\n",
    "    \"\"\"\n",
    "    Finding files that have terms and removing files that have less than 20 valid terms\n",
    "            Parameters:\n",
    "                    dir_path (str): directory with documents sorted by year into the appropriate directories\n",
    "                    annotation (str): name of the file with annotations\n",
    "            Return:\n",
    "                    statistics (list): list of the number of terms in documents\n",
    "                    save_files (list): list of names of selected files\n",
    "    \"\"\"\n",
    "    # Finding files that have terms\n",
    "    files = []\n",
    "    with open(annotation) as fin:\n",
    "        for i in re.finditer(r'^[A-Z][0-9]{2}-[0-9]{4}', fin.read(), re.M):\n",
    "            files.append(i.group(0))\n",
    "\n",
    "    # Removing files that have less than 20 valid terms\n",
    "    statistics = []\n",
    "    save_files = []\n",
    "    dict_files = dict(Counter(files))\n",
    "    for k in dict_files.keys():\n",
    "        if dict_files[k] > 20:\n",
    "            save_files.append(k)\n",
    "            statistics.append(dict_files[k])\n",
    "\n",
    "    # Deleting unnecessary files\n",
    "    for direct in Path(dir_path).iterdir():\n",
    "        number = direct.stem\n",
    "        new_path = Path(dir_path + '/' + number)\n",
    "        for item in Path(new_path).iterdir():\n",
    "            if item.stem not in save_files:\n",
    "                item.unlink()\n",
    "    return save_files, statistics"
   ]
  },
  {
   "cell_type": "code",
   "execution_count": 3,
   "metadata": {},
   "outputs": [],
   "source": [
    "save_files, statistics = find_files_with_terms()"
   ]
  },
  {
   "cell_type": "code",
   "execution_count": 8,
   "metadata": {},
   "outputs": [],
   "source": [
    "def plot_statistics(statistics, name, bins=60):\n",
    "    \"\"\"\n",
    "    Builds a histogram with the number of terms in the documents and saves it to a file in eps format\n",
    "            Parameters:\n",
    "                    statistics (list): list of the number of terms in documents\n",
    "                    name (str): the name of the file to save the histogram in the 'eps' format\n",
    "                    bins (int): number of bins\n",
    "    \"\"\"\n",
    "    plt.rcParams[\"font.family\"] = \"Times New Roman\"\n",
    "    plt.hist(statistics, bins=bins)\n",
    "    plt.xlabel('Количество терминов', fontsize=14)\n",
    "    plt.ylabel('Количество документов', fontsize=14)\n",
    "    plt.savefig(name, format='eps', bbox_inches='tight')"
   ]
  },
  {
   "cell_type": "code",
   "execution_count": 9,
   "metadata": {},
   "outputs": [
    {
     "data": {
      "image/png": "[encoded data removed]",
      "text/plain": [
       "<Figure size 432x288 with 1 Axes>"
      ]
     },
     "metadata": {
      "needs_background": "light"
     },
     "output_type": "display_data"
    }
   ],
   "source": [
    "plot_statistics(statistics, 'Dataset/Statistics.eps')"
   ]
  },
  {
   "cell_type": "code",
   "execution_count": 21,
   "metadata": {},
   "outputs": [],
   "source": [
    "def create_markup(save_files, json_name='Dataset/Terms/Marks.json', \\\n",
    "                  annotation='Dataset/Terms/_all_annotation_map_to_acl_arc_id.txt', \\\n",
    "                  valid_terms = 'Dataset/Terms/valid_terms.txt'):\n",
    "    \"\"\"\n",
    "    Saves the markup file in json format\n",
    "            Parameters:\n",
    "                    save_files (list): list of names of selected files\n",
    "                    json_name (str): The name of the file to save in 'json' format\n",
    "                    annotation (str): name of the file with annotations\n",
    "                    valid_terms (str): name of the file with valid terms\n",
    "    \"\"\"\n",
    "    previous_file = 'A00-1005'\n",
    "    words = []\n",
    "    marks = {}\n",
    "    count = 0\n",
    "\n",
    "    with open(annotation, 'r') as fin:\n",
    "        for line in fin.readlines():\n",
    "            if line[0:8] != previous_file:\n",
    "                # Progress\n",
    "                if count % 500 == 0:\n",
    "                    print('Processed: ', count)\n",
    "                count += 1\n",
    "                \n",
    "                marks[previous_file] = words\n",
    "                words = []\n",
    "                previous_file = line[0:8]\n",
    "            if line[0:8] in save_files:\n",
    "                with open(valid_terms, 'r') as terms:\n",
    "                    for term in terms.readlines():\n",
    "                        if line.split()[1] == term.split()[0]:\n",
    "                            split_terms = term.split()[1:-1]\n",
    "                            words.append(' '.join(split_terms))\n",
    "                            break\n",
    "\n",
    "            marks[line[0:8]] = words\n",
    "\n",
    "    with open(json_name, 'w') as fp:\n",
    "        json.dump(marks, fp)"
   ]
  },
  {
   "cell_type": "code",
   "execution_count": 22,
   "metadata": {},
   "outputs": [
    {
     "name": "stdout",
     "output_type": "stream",
     "text": [
      "Processed:  0\n",
      "Processed:  500\n",
      "Processed:  1000\n",
      "Processed:  1500\n",
      "Processed:  2000\n",
      "Processed:  2500\n",
      "Processed:  3000\n",
      "Processed:  3500\n",
      "Processed:  4000\n",
      "Processed:  4500\n",
      "Processed:  5000\n",
      "Processed:  5500\n",
      "Processed:  6000\n",
      "Processed:  6500\n",
      "Processed:  7000\n",
      "Processed:  7500\n",
      "Processed:  8000\n",
      "Processed:  8500\n",
      "Processed:  9000\n",
      "Processed:  9500\n"
     ]
    }
   ],
   "source": [
    "create_markup(save_files)"
   ]
  },
  {
   "cell_type": "code",
   "execution_count": 23,
   "metadata": {},
   "outputs": [],
   "source": [
    "def find_1_term_files(json_name='Dataset/Terms/Marks.json', json_name_save='Dataset/Terms/Marks_1.json'):\n",
    "    \"\"\"\n",
    "    Collects statistics on terms from a single word and save the markup file in json format\n",
    "            Parameters:\n",
    "                    json_name (str): The name of the file to load markup in 'json' format\n",
    "                    json_name_save (str): The name of the file to save in 'json' format\n",
    "            Return:\n",
    "                    statistics (list): list of the number of 1-word-terms in documents\n",
    "    \"\"\"\n",
    "    with open(json_name, 'r') as fp:\n",
    "        data = json.load(fp)\n",
    "    data_1 = {}\n",
    "    statistics = []\n",
    "\n",
    "    for k in data.keys():\n",
    "        data_1[k] = []\n",
    "        for term in data[k]:\n",
    "            if len(term.split()) == 1:\n",
    "                data_1[k].append(term)\n",
    "        if not data_1[k]:\n",
    "            del data_1[k]\n",
    "        else:\n",
    "            statistics.append(len(data_1[k]))\n",
    "            \n",
    "    with open(json_name_save, 'w') as fp:\n",
    "        json.dump(data_1, fp)\n",
    "    return statistics"
   ]
  },
  {
   "cell_type": "code",
   "execution_count": 25,
   "metadata": {},
   "outputs": [
    {
     "data": {
      "image/png": "[encoded data removed]",
      "text/plain": [
       "<Figure size 432x288 with 1 Axes>"
      ]
     },
     "metadata": {
      "needs_background": "light"
     },
     "output_type": "display_data"
    }
   ],
   "source": [
    "term_1_statistics = find_1_term_files()\n",
    "plot_statistics(term_1_statistics, 'Dataset/Statistics_1.eps')"
   ]
  },
  {
   "cell_type": "code",
   "execution_count": 15,
   "metadata": {},
   "outputs": [],
   "source": [
    "def cutting_info(input_path='Dataset/Texts', output_path='Dataset/Texts_cut'):\n",
    "    \"\"\"\n",
    "    Deleting the title, authors and references\n",
    "            Parameters:\n",
    "                    input_path (str): directory with documents sorted by year to load\n",
    "                    output_path (str): directory with documents sorted by year to save\n",
    "            Return:\n",
    "                    statistics (list): list of the number of 1-word-terms in documents\n",
    "    \"\"\"\n",
    "    for direct in Path(input_path).iterdir():\n",
    "        number = direct.stem\n",
    "        new_input_path = Path(input_path + '/' + number)\n",
    "\n",
    "        for item in Path(new_input_path).iterdir():\n",
    "            new_output_path = Path(output_path + '/' + number + '/' + item.name)\n",
    "            fout = open(new_output_path, 'w')\n",
    "            f = 0\n",
    "\n",
    "            with open(item, 'r', errors=\"ignore\") as fin:\n",
    "                for line in fin.readlines():\n",
    "                    if 'Abstract' in line or 'ABSTRACT' in line:\n",
    "                        f = 1\n",
    "                    elif 'References' in line or 'REFERENCES' in line:\n",
    "                        if f == 0:\n",
    "                            f = 3\n",
    "                        else:\n",
    "                            f = 2\n",
    "                    if f == 1:\n",
    "                        fout.write(line)\n",
    "                if f == 0:\n",
    "                    shutil.copy(item, new_output_path)\n",
    "\n",
    "            if f == 3:\n",
    "                with open(item, 'r', errors=\"ignore\") as fin:\n",
    "                    for line in fin.readlines():\n",
    "                        fout.write(line)\n",
    "                        if 'References' in line or 'REFERENCES' in line:\n",
    "                            break\n",
    "\n",
    "            fout.close()"
   ]
  },
  {
   "cell_type": "code",
   "execution_count": null,
   "metadata": {},
   "outputs": [],
   "source": [
    "cutting_info()"
   ]
  },
  {
   "cell_type": "code",
   "execution_count": 26,
   "metadata": {},
   "outputs": [],
   "source": [
    "def train_test(json_name='Dataset/Terms/Marks_1.json', input_dir='Dataset/Texts_cut/', \\\n",
    "               vw_train='Dataset/Train_test/Train/Train_1.vw.txt', \\\n",
    "               vw_test='Dataset/Train_test/Test/Test_1.vw.txt', train_json='Dataset/Train_test/Train_1.json', \\\n",
    "               test_json='Dataset/Train_test/Test_1.json'):\n",
    "    \"\"\"\n",
    "    Splitting documents into train and test, saving documents in vowpal_wabbit format and markup in json format\n",
    "            Parameters:\n",
    "                    json_name (str): the name of the file to load markup in 'json' format\n",
    "                    input_dir (str): directory with documents sorted by year into the appropriate directories\n",
    "                    vw_train (str): the name of the file to save train texts in Vowpal Wabbit format\n",
    "                    vw_test (str): the name of the file to save test texts in Vowpal Wabbit format\n",
    "                    train_json (str): the name of the file to save train murkup in 'json' format\n",
    "                    text_json (str): the name of the file to save test murkup in 'json' format\n",
    "    \"\"\"\n",
    "    with open(json_name, 'r') as fp:\n",
    "        data = json.load(fp)\n",
    "    vw_train_output = open(vw_train, 'w')\n",
    "    vw_test_output = open(vw_test, 'w')\n",
    "    count = 0\n",
    "    count_train = 0\n",
    "    count_test = 0\n",
    "    data_train = {}\n",
    "    data_test = {}\n",
    "    \n",
    "    # bad files\n",
    "    del data['C00-1038']\n",
    "    del data['C98-1083']\n",
    "    del data['C98-1092']\n",
    "    del data['C98-1117']\n",
    "    del data['E97-1035']\n",
    "\n",
    "    for k in data.keys():\n",
    "        number = k[1:3]\n",
    "        input_path = input_dir + number + '/' + k + '.txt'\n",
    "        with open(input_path, 'r', errors=\"ignore\") as fin:\n",
    "            words = fin.read()\n",
    "            # removing numbers from text\n",
    "            words = re.sub(r'[^\\w\\s]+|[\\d]+', r'', words).strip()\n",
    "            \n",
    "            # 10% for test\n",
    "            if count % 10 == 9:\n",
    "                data_test[k] = data[k]\n",
    "                vw_test_output.write('doc_{} {}\\n'.format(count_test, words))\n",
    "                count_test += 1\n",
    "            else:\n",
    "                data_train[k] = data[k]\n",
    "                vw_train_output.write('doc_{} {}\\n'.format(count_train, words))\n",
    "                count_train += 1\n",
    "        count += 1\n",
    "\n",
    "    vw_train_output.close()\n",
    "    vw_test_output.close()\n",
    "\n",
    "    with open(train_json, 'w') as fp:\n",
    "        json.dump(data_train, fp)\n",
    "\n",
    "    with open(test_json, 'w') as fp:\n",
    "        json.dump(data_test, fp)"
   ]
  },
  {
   "cell_type": "code",
   "execution_count": 27,
   "metadata": {},
   "outputs": [],
   "source": [
    "train_test()"
   ]
  },
  {
   "cell_type": "code",
   "execution_count": 22,
   "metadata": {},
   "outputs": [],
   "source": [
    "def NER_preprocess(input_path='Dataset/Texts', output_path='Dataset/Texts_NER_1', json_name='Dataset/Terms/Marks_1.json'):\n",
    "    \"\"\"\n",
    "    Text markup and preprocess for neural network BERT\n",
    "            Parameters:\n",
    "                    input_path (str): directory with documents sorted by year to load\n",
    "                    output_path (str): directory with documents sorted by year to save\n",
    "                    json_name (str): name of the file with markup in 'json format'\n",
    "    \"\"\"\n",
    "    with open(json_name, 'r') as fp:\n",
    "        data = json.load(fp)\n",
    "\n",
    "    count = 0\n",
    "    for direct in Path(input_path).iterdir():\n",
    "        number = direct.stem\n",
    "        new_input_path = Path(input_path + '/' + number)\n",
    "   \n",
    "        for item in Path(new_input_path).iterdir():\n",
    "            new_output_path = Path(output_path + '/' + number + '/' + item.name)\n",
    "            fout = open(new_output_path, 'w')\n",
    "\n",
    "            with open(item, 'r', errors=\"ignore\") as fin:\n",
    "                line_num = 0\n",
    "                for line in fin.readlines():\n",
    "                    # removing numbers from text\n",
    "                    line = re.sub(r'[^\\w\\s]+|[\\d]+', r'',line).strip()\n",
    "                    words = line.split()\n",
    "                    \n",
    "                    # deleting words whose length is less than 3 and assigning markup 'B' for terms and 'O' for regular words\n",
    "                    for word in words:\n",
    "                        if len(word) > 2:\n",
    "                            if word.lower() in data[item.stem]:\n",
    "                                fout.write(str(line_num) + ' ' + word.lower() + ' ' + 'B\\n')\n",
    "                            else:\n",
    "                                fout.write(str(line_num) + ' ' + word.lower() + ' ' + 'O\\n')\n",
    "                    line_num += 1\n",
    "                if count % 1000 == 0:\n",
    "                    print('Progress: ', count)\n",
    "                count += 1\n",
    "            fout.close()"
   ]
  },
  {
   "cell_type": "code",
   "execution_count": 23,
   "metadata": {},
   "outputs": [
    {
     "name": "stdout",
     "output_type": "stream",
     "text": [
      "0\n",
      "1000\n",
      "2000\n",
      "3000\n",
      "4000\n",
      "5000\n",
      "6000\n",
      "7000\n",
      "8000\n",
      "9000\n"
     ]
    }
   ],
   "source": [
    "NER_preprocess()"
   ]
  }
 ],
 "metadata": {
  "kernelspec": {
   "display_name": "Python 3",
   "language": "python",
   "name": "python3"
  },
  "language_info": {
   "codemirror_mode": {
    "name": "ipython",
    "version": 3
   },
   "file_extension": ".py",
   "mimetype": "text/x-python",
   "name": "python",
   "nbconvert_exporter": "python",
   "pygments_lexer": "ipython3",
   "version": "3.8.5"
  }
 },
 "nbformat": 4,
 "nbformat_minor": 4
}
